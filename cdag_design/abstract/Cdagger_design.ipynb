{
 "cells": [
  {
   "cell_type": "code",
   "execution_count": 6,
   "id": "7d2c58ed",
   "metadata": {},
   "outputs": [],
   "source": [
    "import lex\n",
    "import yacc\n",
    "from lex import TOKEN\n",
    "import regex as re\n",
    "import warnings\n",
    "import numpy as np\n",
    "import math\n",
    "import sys, os"
   ]
  },
  {
   "cell_type": "code",
   "execution_count": null,
   "id": "1fa45a37",
   "metadata": {},
   "outputs": [],
   "source": []
  },
  {
   "cell_type": "code",
   "execution_count": null,
   "id": "0268cced",
   "metadata": {},
   "outputs": [],
   "source": [
    "class Lexer:\n",
    "    def __init__(self):\n",
    "        self.tokens = set()\n",
    "    \n",
    "    def add_token(self, token):\n",
    "        self.tokens.add(token)\n",
    "    \n",
    "    def remove_token(self, token):\n",
    "        self.tokens.remove(token)\n"
   ]
  },
  {
   "cell_type": "code",
   "execution_count": null,
   "id": "ea33307b",
   "metadata": {},
   "outputs": [],
   "source": [
    "class RuleTemplate:\n",
    "    def __init__(self):\n",
    "        pass\n",
    "    \n",
    "    def add(self, rule, rule_type):\n",
    "        pass\n",
    "    \n"
   ]
  },
  {
   "cell_type": "code",
   "execution_count": 2,
   "id": "0abc22ce",
   "metadata": {},
   "outputs": [],
   "source": [
    "class Ruler(Lexer):\n",
    "    def __init__(self):\n",
    "        super(Lexer, self).__init__()\n",
    "        self.rules = dict()\n",
    "    \n",
    "    def add_rules(self, overwrite=False, *data):\n",
    "        for k, v in data:\n",
    "            if self.check_rule(k):\n",
    "                if (not overwrite and k not in self.rules.keys()) or overwrite:\n",
    "                    self.rules.update({k: v})\n",
    "            else:\n",
    "                print(f'- rule \"{k}\" contains a token in the rule name; therefore it was not added.')\n",
    "    \n",
    "    def check_rule(self, rule):\n",
    "        rule_name = rule.split(' ')[0]\n",
    "        if rule_name not in self.tokens:\n",
    "            return True\n",
    "        return False\n"
   ]
  },
  {
   "cell_type": "code",
   "execution_count": null,
   "id": "c907990d",
   "metadata": {},
   "outputs": [],
   "source": [
    "def gen_syntax():\n",
    "    gen_rules()\n",
    "    apply_template()"
   ]
  },
  {
   "cell_type": "code",
   "execution_count": 9,
   "id": "039dd89d",
   "metadata": {},
   "outputs": [
    {
     "name": "stdout",
     "output_type": "stream",
     "text": [
      "(('a', 1), ('b', 2)) ('a', 1) ('b', 2)\n",
      "a - 1\n",
      "b - 2\n"
     ]
    }
   ],
   "source": [
    "def teste22(*data):\n",
    "    print(data, *data)\n",
    "    for gg2, ff2 in data:\n",
    "        print(gg2, '-', ff2)\n",
    "\n",
    "teste22(*[('a', 1), ('b', 2)])"
   ]
  },
  {
   "cell_type": "code",
   "execution_count": null,
   "id": "58435a6c",
   "metadata": {},
   "outputs": [],
   "source": [
    "(1, 2) # tuple element 2 append after element 1\n",
    "[1, 2] # append element 2 to 1 (must be the same element, whatever type)\n",
    "{1, 2} # dictionary element 2 update to dictionary containing dictionary element 1"
   ]
  },
  {
   "cell_type": "code",
   "execution_count": 33,
   "id": "21456374",
   "metadata": {},
   "outputs": [
    {
     "data": {
      "text/plain": [
       "['sentence1', 'subj', \"':'\", 'action', \"'['\", 'obj', \"']'\"]"
      ]
     },
     "execution_count": 33,
     "metadata": {},
     "output_type": "execute_result"
    }
   ],
   "source": [
    "rn1, sr1 = \"sentence1 : subj ':' action '[' obj ']'\", ({1}, {3, 5})\n",
    "rn1 = rn1.split(' ')\n",
    "rn1.pop(1)\n",
    "rn1"
   ]
  },
  {
   "cell_type": "code",
   "execution_count": null,
   "id": "5f1b132e",
   "metadata": {},
   "outputs": [],
   "source": [
    "def gen_sr1(s, sr):\n",
    "    if isinstance(sr, tuple):\n",
    "        pass\n",
    "    elif isinstance(sr, list):\n",
    "        pass\n",
    "    elif isinstance(sr, set):\n",
    "        pass\n",
    "    elif isinstance(sr, int):\n",
    "        pass\n",
    "    elif isinstance(sr, float):\n",
    "        pass\n",
    "    elif isinstance(sr, str):\n",
    "        pass\n",
    "    else:\n",
    "        pass\n",
    "    return\n",
    "    \n",
    "\n",
    "def read_rule1(*rules):\n",
    "    for sentence, sentence_rule in rules:\n",
    "        s = sentence.split(' ')\n",
    "        s.pop(1)\n",
    "        "
   ]
  },
  {
   "cell_type": "code",
   "execution_count": null,
   "id": "e6e8b948",
   "metadata": {},
   "outputs": [],
   "source": []
  },
  {
   "cell_type": "markdown",
   "id": "0e0673e7",
   "metadata": {},
   "source": [
    "## Exemplos de desenho da linguagem"
   ]
  },
  {
   "cell_type": "markdown",
   "id": "26711226",
   "metadata": {},
   "source": [
    "\n",
    "```\n",
    "subj: action [obj+] as attr\n",
    "      action [$n]_#n:[primeiro último] [) (] ()\n",
    "      action [$n]_#n:[primeiro último] as attr$n_#n:[primeiro último] ??\n",
    "      \n",
    "      loops [with $k: action1 [$k] action2 [$k] ... ]_#k:[primeiro último]\n",
    "      \n",
    "      \n",
    "      action [obj1 obj2]\n",
    "      action [obj1 & with obj2: maps [obj3]]\n",
    "      action [obj1 & with obj2: maps [obj3] & obj4 obj5 obj6 ...]\n",
    "      action [with obj1: \n",
    "                          maps [obj2] \n",
    "                          action [obj21] \n",
    "                          action [obj22] \n",
    "             & with obj3: \n",
    "                          maps [obj4] \n",
    "                          action [obj41] \n",
    "             & ...]\n",
    "             \n",
    "      adds [1 2]\n",
    "      adds [1 2 3 4]\n",
    "      adds [1\n",
    "            & with fibonacci: maps [54] as fib_value\n",
    "                              multiplies [fib_value 10] as fib10\n",
    "                              returns [fib10]\n",
    "            & with factorial: maps [fib10] as fact_value\n",
    "                              returns [fact_value]\n",
    "            & 2 3 4]\n",
    "            \n",
    "      adds [1 2 3 4] = 1 + 2 + 3 + 4 = 10\n",
    "      adds [1 2 3.0] = 1 + 2 + 3.0 = 6.0\n",
    "      adds [\"a\" \"b\"] = \"a\" + \"b\" = \"ab\"\n",
    "      adds [\"a\" 1] = \"a\" + 1 = \"a1\"\n",
    "      adds [\"a\" 1 [1, 2]] = \"a\" + 1 + [1, 2] = [\"a\", 1, [1, 2]]\n",
    "      adds [!{list} \"a\" 1 1 2] = [\"a\", 1, 1, 2]\n",
    "      \n",
    "      adds [!{list} 1 2] = [1, 2]\n",
    "      adds [!{string} 1 2] = \"12\"\n",
    "    \n",
    "      adds [[1] [2]] = [1, 2]\n",
    "\n",
    "      sets [10] as a\n",
    "      adds [a 1] = 11\n",
    "      \n",
    "      adds [!{integer} \"a\" 1] = ?\n",
    "      \n",
    "      @adds [!{qubit} \"a\" 1] \n",
    "      \n",
    "      ## falar sobre tipagem##\n",
    "      [1, 2] + [3, 4] = [1, 2, 3, 4]\n",
    "      sets [[1,2] [3,4]] as a1 a2\n",
    "      adds [!{list.flatten} a1 a2] = [[1,2],[3,4]] -> [1, 2, 3, 4]\n",
    "      \n",
    "      divides [1 2] = 0.5\n",
    "      divides [!{list} 1 2] = [1, 2]\n",
    "      divides [\"oie\"] = ['o', 'i', 'e']\n",
    "      divides [\"oie\"] as v1 v2 v3 => v1 = 'o', v2 = 'i', v3 = 'e'\n",
    "      divides [\"oie\"] as v1 => v1 = ['o', 'i', 'e']\n",
    "      \n",
    "      adds [$n]_#n:[v1] = 'oie'\n",
    "      adds [$n]_#n:(v1) = 'i'\n",
    "      adds [$n]_#n:[v1) = 'oi'\n",
    "      adds [$n]_#n:(v1] = 'ie'\n",
    "      adds [$n]_#n:v1 = 'oie'\n",
    "      \n",
    "      adds [$n]_#n:[1 3] -> 1 + 2 + 3 = 6\n",
    "      adds [$n]_#n:(1 3] -> 2 + 3 = 5\n",
    "      adds [$n]_#n:[1 3) -> 1 + 2 = 3\n",
    "      adds [$n]_#n:(1 3) -> 2 = ?!\n",
    "      \n",
    "      \n",
    "      adds [2] = 2 ?\n",
    "      divides [1] = 1 ?\n",
    "      \n",
    "      sets [10 2 3] as var_list\n",
    "      \n",
    "      sets [10] as v1\n",
    "      adds [1 2 3] as v2\n",
    "      adds [$k]_#k:[1 3 4] as v2\n",
    "      adds [$k]_#k:[1 6 -3] as v2 ## não faz sentido ##\n",
    "      adds [$k]_#k:[6 1 3] as v2\n",
    "      adds [$k]_#k:[1 6]%2 as v2\n",
    "      adds [$k]_#k:[var_list 3] = ?\n",
    "      adds [$k]_#k:[var_list%2]\n",
    "\n",
    "      divides [var_list 2] as var_list2 var_list3\n",
    "      adds [$k]_#k:[var_list2]\n",
    "      \n",
    "      divides [var_list .3] as var_list4 var_list5 ## menor -> maior ##\n",
    "      \n",
    "      adds [$k]_#k:[5] ## não faz sentido ##\n",
    "      adds [$k]_#k:[5 0 -1]\n",
    "      adds [$k]_#k:var_list\n",
    "           \n",
    "      \n",
    "      var_list.(0 length/2) = var_list.0 var_list.lenght/2\n",
    "      sets [var_list.(0 length/2)] as v1 = [#elem0 {real}]\n",
    "      \n",
    "      \n",
    "      sets [*v1] as ?v2\n",
    "      adds [6 v2] as v3 = erro? 6? ignora ação?\n",
    "      multiplies [v3 10] as v4\n",
    "      adds ['a' v2] = 'a'\n",
    "      divides [1 v2] = 1?, v2 = 1\n",
    "      returns [v4]\n",
    "      \n",
    "      \n",
    "      adds [$n]_#n:3 = ?\n",
    "      adds [$n]_#n:[3] = ?\n",
    "      adds [$n]_#n:)3( = !?\n",
    "      adds [$n]_#n:]3[ = ?!\n",
    "\n",
    "      \n",
    "      divides [[1,2]] = [[1], [2]]\n",
    "      ?? [!{??} \"oie\" \"alo\"] = ['o', 'i', 'e', 'a', 'l', 'o']\n",
    "      \n",
    "      a3 = [a1, a2] = [[1,2], [3,4]]\n",
    "      a1.extend(a2) = [1, 2, 3, 4]\n",
    "      \n",
    "      adds [1 2] as v1\n",
    "      adds [1 2] as v1{integer}\n",
    "      adds [1 2] as v1{string} = '3'?\n",
    "      adds [!{string} 1 2] as v1 = '12'\n",
    "      adds [!{string} 1 2] as v1{integer} = 12?\n",
    "      adds [!{list} 1 2] as v1{integer} = ?\n",
    "      \n",
    "      adds [!{list} 1 2 & with fibonacci: maps [4]]\n",
    "      \n",
    "      sets [??] q1{qubit}\n",
    "      sets [??] @q1\n",
    "\n",
    "\n",
    "factorial: sets [10] as v1\n",
    "           multiplies [$k]_#k:[1 v1 +1] as v2\n",
    "           returns [v2 | 1]\n",
    "      \n",
    "      \n",
    "```"
   ]
  },
  {
   "cell_type": "raw",
   "id": "57cf2bac",
   "metadata": {},
   "source": [
    "retomando:\n",
    "- semana passada discutimos sobre adds e suas possibilidades. alguma dúvida? continuamos ou seguimos para outra coisa?"
   ]
  },
  {
   "cell_type": "raw",
   "id": "e1fed039",
   "metadata": {},
   "source": []
  },
  {
   "cell_type": "code",
   "execution_count": 2,
   "id": "2cca9a33",
   "metadata": {},
   "outputs": [
    {
     "data": {
      "text/plain": [
       "array([ 1.        ,  1.18367347,  1.36734694,  1.55102041,  1.73469388,\n",
       "        1.91836735,  2.10204082,  2.28571429,  2.46938776,  2.65306122,\n",
       "        2.83673469,  3.02040816,  3.20408163,  3.3877551 ,  3.57142857,\n",
       "        3.75510204,  3.93877551,  4.12244898,  4.30612245,  4.48979592,\n",
       "        4.67346939,  4.85714286,  5.04081633,  5.2244898 ,  5.40816327,\n",
       "        5.59183673,  5.7755102 ,  5.95918367,  6.14285714,  6.32653061,\n",
       "        6.51020408,  6.69387755,  6.87755102,  7.06122449,  7.24489796,\n",
       "        7.42857143,  7.6122449 ,  7.79591837,  7.97959184,  8.16326531,\n",
       "        8.34693878,  8.53061224,  8.71428571,  8.89795918,  9.08163265,\n",
       "        9.26530612,  9.44897959,  9.63265306,  9.81632653, 10.        ])"
      ]
     },
     "execution_count": 2,
     "metadata": {},
     "output_type": "execute_result"
    }
   ],
   "source": [
    "np.linspace(1, 10, 50)"
   ]
  },
  {
   "cell_type": "code",
   "execution_count": 6,
   "id": "53937102",
   "metadata": {},
   "outputs": [
    {
     "data": {
      "text/plain": [
       "[]"
      ]
     },
     "execution_count": 6,
     "metadata": {},
     "output_type": "execute_result"
    }
   ],
   "source": [
    "[k for k in range(5,0,1)]"
   ]
  },
  {
   "cell_type": "markdown",
   "id": "b22fae7d",
   "metadata": {},
   "source": [
    "```\n",
    "main_q:\n",
    "        @sets [?] as @q1\n",
    "        @amplifies [@q1 ?]\n",
    "        @moves [@q1 @q2]\n",
    "        @synchronizes [? ?]\n",
    "       \n",
    "```"
   ]
  },
  {
   "cell_type": "raw",
   "id": "fb4cca2b",
   "metadata": {},
   "source": [
    "_#k:[1 5 +2] = [1 3 5]\n",
    "_#k:[15 2 -5] = [15 10 5]\n",
    "\n",
    "\n",
    "@synchronizes (num qubits, fase, base?)\n",
    "\n",
    "@synchronizes 2+ qubits --> |q1(x)>, |q2(y)> -> GHZ(z)\n",
    "ex: |00...0> + |11...1>\n",
    "ex: |0101> + |1010>\n",
    "ex: |1100> + |1010> + |0101> + |0011>\n",
    "\n",
    "@synchronizes |q1(1 qubit)>, |q2(1 qubit)> -> Bell(2 qubits)\n",
    "ex: |0> + |1> -> |00> + |11>\n",
    "ex: |0> - |1> -> |00> - |11>\n",
    "ex: |0> + |1> com inversão -> |01> + |10>"
   ]
  },
  {
   "cell_type": "raw",
   "id": "91a370b1",
   "metadata": {},
   "source": [
    "Wal: |0> + |1> = @q1\n",
    "G: quer sincronizar com Wal em @q2\n",
    "\n",
    "Wal -> @synchronizes [@q1 @q2] -> |00> + |11>Wal,G\n",
    "@synchronizes [!{qubit.inverse} @q1 @q2] -> |01> + |10>Wal,G\n",
    "\n",
    "\n",
    "Wal: |00> + |01> + |11> = @q1\n",
    "G: @q2(2qubits)\n",
    "\n",
    "@synchronizes [@q1 @q2] -> |0000> + |0101> + |1111>\n",
    "@synchronizes [!{qubit.inverse} @q1 @q2] -> |0011> + |0110> + |1100>\n",
    "@synchronizes [!{qubit.?} @q1 @q2] -> |0010> + |0111> + |1101>\n"
   ]
  },
  {
   "cell_type": "raw",
   "id": "6fe92355",
   "metadata": {},
   "source": [
    "@duplicates [from:(@q1 @q2) to:((@q3 @q4) (@q5 @q6))]\n",
    "\n",
    "ex:\n",
    "A\n",
    "B\n",
    "B\n",
    "A\n",
    "\n",
    "@duplicates [from:(@q1 @q2) to:(@q4 @q3)]"
   ]
  },
  {
   "cell_type": "code",
   "execution_count": 106,
   "id": "37b0665a",
   "metadata": {},
   "outputs": [
    {
     "ename": "KeyError",
     "evalue": "'__module__'",
     "output_type": "error",
     "traceback": [
      "\u001b[0;31m---------------------------------------------------------------------------\u001b[0m",
      "\u001b[0;31mKeyError\u001b[0m                                  Traceback (most recent call last)",
      "\u001b[0;32m/var/folders/9d/19xtq7f51rv88p0hx0574l740000gn/T/ipykernel_94640/3046078788.py\u001b[0m in \u001b[0;36m<module>\u001b[0;34m\u001b[0m\n\u001b[1;32m     24\u001b[0m \u001b[0;34m\u001b[0m\u001b[0m\n\u001b[1;32m     25\u001b[0m \u001b[0;34m\u001b[0m\u001b[0m\n\u001b[0;32m---> 26\u001b[0;31m \u001b[0mlexer\u001b[0m \u001b[0;34m=\u001b[0m \u001b[0mlex\u001b[0m\u001b[0;34m.\u001b[0m\u001b[0mlex\u001b[0m\u001b[0;34m(\u001b[0m\u001b[0mobject\u001b[0m\u001b[0;34m=\u001b[0m\u001b[0mtokens\u001b[0m\u001b[0;34m,\u001b[0m \u001b[0mreflags\u001b[0m\u001b[0;34m=\u001b[0m\u001b[0mre\u001b[0m\u001b[0;34m.\u001b[0m\u001b[0mUNICODE\u001b[0m \u001b[0;34m|\u001b[0m \u001b[0mre\u001b[0m\u001b[0;34m.\u001b[0m\u001b[0mVERBOSE\u001b[0m\u001b[0;34m)\u001b[0m\u001b[0;34m\u001b[0m\u001b[0;34m\u001b[0m\u001b[0m\n\u001b[0m",
      "\u001b[0;32m~/dooms/repos/cdag_design/cdag_design/abstract/lex.py\u001b[0m in \u001b[0;36mlex\u001b[0;34m(module, object, debug, reflags, debuglog, errorlog)\u001b[0m\n\u001b[1;32m    742\u001b[0m         \u001b[0;31m# If no __file__ attribute is available, try to obtain it from the __module__ instead\u001b[0m\u001b[0;34m\u001b[0m\u001b[0;34m\u001b[0m\u001b[0;34m\u001b[0m\u001b[0m\n\u001b[1;32m    743\u001b[0m         \u001b[0;32mif\u001b[0m \u001b[0;34m'__file__'\u001b[0m \u001b[0;32mnot\u001b[0m \u001b[0;32min\u001b[0m \u001b[0mldict\u001b[0m\u001b[0;34m:\u001b[0m\u001b[0;34m\u001b[0m\u001b[0;34m\u001b[0m\u001b[0m\n\u001b[0;32m--> 744\u001b[0;31m             \u001b[0mldict\u001b[0m\u001b[0;34m[\u001b[0m\u001b[0;34m'__file__'\u001b[0m\u001b[0;34m]\u001b[0m \u001b[0;34m=\u001b[0m \u001b[0msys\u001b[0m\u001b[0;34m.\u001b[0m\u001b[0mmodules\u001b[0m\u001b[0;34m[\u001b[0m\u001b[0mldict\u001b[0m\u001b[0;34m[\u001b[0m\u001b[0;34m'__module__'\u001b[0m\u001b[0;34m]\u001b[0m\u001b[0;34m]\u001b[0m\u001b[0;34m.\u001b[0m\u001b[0m__file__\u001b[0m\u001b[0;34m\u001b[0m\u001b[0;34m\u001b[0m\u001b[0m\n\u001b[0m\u001b[1;32m    745\u001b[0m     \u001b[0;32melse\u001b[0m\u001b[0;34m:\u001b[0m\u001b[0;34m\u001b[0m\u001b[0;34m\u001b[0m\u001b[0m\n\u001b[1;32m    746\u001b[0m         \u001b[0mldict\u001b[0m \u001b[0;34m=\u001b[0m \u001b[0mget_caller_module_dict\u001b[0m\u001b[0;34m(\u001b[0m\u001b[0;36m2\u001b[0m\u001b[0;34m)\u001b[0m\u001b[0;34m\u001b[0m\u001b[0;34m\u001b[0m\u001b[0m\n",
      "\u001b[0;31mKeyError\u001b[0m: '__module__'"
     ]
    }
   ],
   "source": [
    "# tokens\n",
    "actions = (\"adds\",)\n",
    "misc = (\"comma\", \"lbra\", \"rbra\") # :, [, ]\n",
    "types = (\"string\", \"integer\") # --> type(1), type('oi')\n",
    "\n",
    "# valores / variaveis\n",
    "values = (\"str\", \"int\") # --> 1, 'oi'\n",
    "ids = (\"id\",) # var1, var2, subj1, subj2\n",
    "\n",
    "tokens = actions + misc + types + values + ids\n",
    "\n",
    "t_ignore = '\\n\\t ,;'\n",
    "t_str = r'\\\".*\\\"|\\'.*\\''\n",
    "t_int = r'[+|-]?\\d+[^\\.]'\n",
    "t_id = r'[a-zA-Z]+[\\w]+'\n",
    "t_comma = r':'\n",
    "t_lbra = r'\\['\n",
    "t_rbra = r'\\]'\n",
    "\n",
    "\n",
    "def t_error(t):\n",
    "    print('error')\n",
    "    t.lexer.skip(1)\n",
    "\n",
    "\n",
    "lexer = lex.lex(object=tokens, reflags=re.UNICODE | re.VERBOSE)\n"
   ]
  },
  {
   "cell_type": "code",
   "execution_count": 7,
   "id": "98e7056b",
   "metadata": {},
   "outputs": [],
   "source": [
    "texto = \"main: adds [1 3]\""
   ]
  },
  {
   "cell_type": "markdown",
   "id": "8ff0307a",
   "metadata": {},
   "source": [
    "## Syntax"
   ]
  },
  {
   "cell_type": "code",
   "execution_count": 101,
   "id": "9b9d469f",
   "metadata": {},
   "outputs": [
    {
     "data": {
      "text/plain": [
       "['v1c2']"
      ]
     },
     "execution_count": 101,
     "metadata": {},
     "output_type": "execute_result"
    }
   ],
   "source": [
    "re.findall(t_id, 'v1c2')"
   ]
  },
  {
   "cell_type": "code",
   "execution_count": null,
   "id": "03ce174d",
   "metadata": {},
   "outputs": [],
   "source": []
  },
  {
   "cell_type": "code",
   "execution_count": null,
   "id": "d0d7179a",
   "metadata": {},
   "outputs": [],
   "source": []
  },
  {
   "cell_type": "code",
   "execution_count": null,
   "id": "e6b3f81d",
   "metadata": {},
   "outputs": [],
   "source": []
  }
 ],
 "metadata": {
  "kernelspec": {
   "display_name": "Python 3 (ipykernel)",
   "language": "python",
   "name": "python3"
  },
  "language_info": {
   "codemirror_mode": {
    "name": "ipython",
    "version": 3
   },
   "file_extension": ".py",
   "mimetype": "text/x-python",
   "name": "python",
   "nbconvert_exporter": "python",
   "pygments_lexer": "ipython3",
   "version": "3.9.6"
  }
 },
 "nbformat": 4,
 "nbformat_minor": 5
}
